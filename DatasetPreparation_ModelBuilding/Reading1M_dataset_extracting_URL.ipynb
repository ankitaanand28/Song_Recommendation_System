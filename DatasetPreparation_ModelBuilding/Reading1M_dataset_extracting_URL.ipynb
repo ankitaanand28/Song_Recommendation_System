{
 "cells": [
  {
   "cell_type": "markdown",
   "metadata": {},
   "source": [
    "## Importing the Libraries"
   ]
  },
  {
   "cell_type": "code",
   "execution_count": 1,
   "metadata": {},
   "outputs": [],
   "source": [
    "import os\n",
    "import pandas as pd\n",
    "import numpy as np\n",
    "import json\n",
    "import spotipy\n",
    "import spotipy.oauth2 as oauth2\n",
    "from spotipy.oauth2 import SpotifyOAuth,SpotifyClientCredentials\n",
    "import yaml\n",
    "import re\n",
    "from tqdm import tqdm\n",
    "import multiprocessing as mp\n",
    "import time\n",
    "import random\n",
    "import datetime"
   ]
  },
  {
   "cell_type": "markdown",
   "metadata": {},
   "source": [
    "## Importing the dataset"
   ]
  },
  {
   "cell_type": "markdown",
   "metadata": {},
   "source": [
    "- Reading the 1 million playlists and keeping only the unique track URIs for the content-based recommendation system.\n",
    "- The first for loop Read the 600 JSON files one at a time.\n",
    "- The second for loop is for getting only the unique track."
   ]
  },
  {
   "cell_type": "code",
   "execution_count": 6,
   "metadata": {},
   "outputs": [],
   "source": [
    "def loop_slices(path, num_slices=20):\n",
    "  cnt = 0\n",
    "  cnt1 = 0\n",
    "  mpd_playlists = []\n",
    "  unique_tracks= pd.DataFrame()\n",
    "  filenames = os.listdir(path)\n",
    "  for fname in tqdm(sorted(filenames, key=len)):\n",
    "    if fname.startswith(\"mpd.slice.\") and fname.endswith(\".json\"):\n",
    "      cnt += 1\n",
    "      fullpath = os.sep.join((path, fname))\n",
    "      f = open(fullpath)\n",
    "      js = f.read()\n",
    "      f.close()\n",
    "      current_slice = json.loads(js)\n",
    "      # Create a list of all playlists\n",
    "      for playlist in current_slice['playlists']:\n",
    "        cnt1 +=1\n",
    "        mpd_playlists.append(playlist)\n",
    "        if cnt1 == 600:\n",
    "          cnt1=0\n",
    "          temp=pd.DataFrame(mpd_playlists)\n",
    "          temp=temp.explode('tracks')\n",
    "          temp=pd.DataFrame(temp['tracks'].apply(pd.Series))\n",
    "          unique_tracks=pd.concat([unique_tracks,temp],axis=0)\n",
    "          unique_tracks.drop_duplicates(subset=['track_uri'],inplace=True)\n",
    "          mpd_playlists = []\n",
    "      if cnt == num_slices:\n",
    "        break\n",
    "  return unique_tracks\n",
    "# Path where the json files are extracted\n",
    "path = 'data/'"
   ]
  },
  {
   "cell_type": "code",
   "execution_count": 7,
   "metadata": {},
   "outputs": [
    {
     "name": "stderr",
     "output_type": "stream",
     "text": [
      "100%|█████████████████████████████████████████████████████████████████████████████▊| 599/600 [3:16:12<00:19, 19.65s/it]\n"
     ]
    }
   ],
   "source": [
    "df = loop_slices(path, num_slices=600)\n",
    "df.to_csv('data/1m.csv')"
   ]
  },
  {
   "cell_type": "code",
   "execution_count": 18,
   "metadata": {},
   "outputs": [],
   "source": [
    "df[\"track_uri\"] = df[\"track_uri\"].apply(lambda x: re.findall(r'\\w+$', x)[0])\n",
    "df[\"artist_uri\"] = df[\"artist_uri\"].apply(lambda x: re.findall(r'\\w+$', x)[0])\n",
    "df[\"album_uri\"] = df[\"album_uri\"].apply(lambda x: re.findall(r'\\w+$', x)[0])"
   ]
  },
  {
   "cell_type": "code",
   "execution_count": 19,
   "metadata": {},
   "outputs": [],
   "source": [
    "df_new=df[['track_uri', 'artist_uri', 'album_uri']]"
   ]
  },
  {
   "cell_type": "code",
   "execution_count": 20,
   "metadata": {},
   "outputs": [],
   "source": [
    "df_new.to_csv(\"1m_dataset.csv\")"
   ]
  },
  {
   "cell_type": "code",
   "execution_count": 21,
   "metadata": {},
   "outputs": [],
   "source": [
    "df=df_new"
   ]
  },
  {
   "cell_type": "code",
   "execution_count": 24,
   "metadata": {},
   "outputs": [
    {
     "data": {
      "text/html": [
       "<div>\n",
       "<style scoped>\n",
       "    .dataframe tbody tr th:only-of-type {\n",
       "        vertical-align: middle;\n",
       "    }\n",
       "\n",
       "    .dataframe tbody tr th {\n",
       "        vertical-align: top;\n",
       "    }\n",
       "\n",
       "    .dataframe thead th {\n",
       "        text-align: right;\n",
       "    }\n",
       "</style>\n",
       "<table border=\"1\" class=\"dataframe\">\n",
       "  <thead>\n",
       "    <tr style=\"text-align: right;\">\n",
       "      <th></th>\n",
       "      <th>track_uri</th>\n",
       "      <th>artist_uri</th>\n",
       "      <th>album_uri</th>\n",
       "    </tr>\n",
       "  </thead>\n",
       "  <tbody>\n",
       "    <tr>\n",
       "      <th>0</th>\n",
       "      <td>0UaMYEvWZi0ZqiDOoHU3YI</td>\n",
       "      <td>2wIVse2owClT7go1WT98tk</td>\n",
       "      <td>6vV5UrXcfyQD1wu4Qo2I9K</td>\n",
       "    </tr>\n",
       "    <tr>\n",
       "      <th>1</th>\n",
       "      <td>6I9VzXrHxO9rA9A5euc8Ak</td>\n",
       "      <td>26dSoYclwsYLMAKD3tpOr4</td>\n",
       "      <td>0z7pVBGOD7HCIB7S8eLkLI</td>\n",
       "    </tr>\n",
       "    <tr>\n",
       "      <th>2</th>\n",
       "      <td>0WqIKmW4BTrj3eJFmnCKMv</td>\n",
       "      <td>6vWDO969PvNqNYHIOW5v0m</td>\n",
       "      <td>25hVFAxTlDvXbx2X2QkUkE</td>\n",
       "    </tr>\n",
       "    <tr>\n",
       "      <th>3</th>\n",
       "      <td>1AWQoqb9bSvzTjaLralEkT</td>\n",
       "      <td>31TPClRtHm23RisEBtV3X7</td>\n",
       "      <td>6QPkyl04rXwTGlGlcYaRoW</td>\n",
       "    </tr>\n",
       "    <tr>\n",
       "      <th>4</th>\n",
       "      <td>1lzr43nnXAijIGYnCT8M8H</td>\n",
       "      <td>5EvFsr3kj42KNv97ZEnqij</td>\n",
       "      <td>6NmFmPX56pcLBOFMhIiKvF</td>\n",
       "    </tr>\n",
       "    <tr>\n",
       "      <th>...</th>\n",
       "      <td>...</td>\n",
       "      <td>...</td>\n",
       "      <td>...</td>\n",
       "    </tr>\n",
       "    <tr>\n",
       "      <th>1760488</th>\n",
       "      <td>5qGlyp4XgwL0VV6vOkWV5S</td>\n",
       "      <td>1PpMfsOyfZ3nmcSoiIohpC</td>\n",
       "      <td>0DOrj4NjLZuUIlQqHKLsTr</td>\n",
       "    </tr>\n",
       "    <tr>\n",
       "      <th>1760489</th>\n",
       "      <td>5LSOkBJJsLu4SQwvyacIGp</td>\n",
       "      <td>0ty0xha1dbprYIUAQufkFn</td>\n",
       "      <td>6BTzoWgZBEIw4wddGcIsy6</td>\n",
       "    </tr>\n",
       "    <tr>\n",
       "      <th>1760490</th>\n",
       "      <td>5syAfgDKuppPBIHXLY6zBn</td>\n",
       "      <td>1KeIof0zqga5ojkmOKg88P</td>\n",
       "      <td>1wLw41yiDGcZowrw3L3Bkd</td>\n",
       "    </tr>\n",
       "    <tr>\n",
       "      <th>1760491</th>\n",
       "      <td>5YiSmmV9FX2pluBqbGVEta</td>\n",
       "      <td>05lXn8pr4Rm6gFD8zGi3ve</td>\n",
       "      <td>1lajhds6xa01ZEH5L7QAUX</td>\n",
       "    </tr>\n",
       "    <tr>\n",
       "      <th>1760492</th>\n",
       "      <td>0WNs8WQq67S9h7rLyKk3Bc</td>\n",
       "      <td>456GKlKmVdzrsmUDmF0Xug</td>\n",
       "      <td>6MFIjgMQMlS7Lehzgi1iFP</td>\n",
       "    </tr>\n",
       "  </tbody>\n",
       "</table>\n",
       "<p>1760493 rows × 3 columns</p>\n",
       "</div>"
      ],
      "text/plain": [
       "                      track_uri              artist_uri  \\\n",
       "0        0UaMYEvWZi0ZqiDOoHU3YI  2wIVse2owClT7go1WT98tk   \n",
       "1        6I9VzXrHxO9rA9A5euc8Ak  26dSoYclwsYLMAKD3tpOr4   \n",
       "2        0WqIKmW4BTrj3eJFmnCKMv  6vWDO969PvNqNYHIOW5v0m   \n",
       "3        1AWQoqb9bSvzTjaLralEkT  31TPClRtHm23RisEBtV3X7   \n",
       "4        1lzr43nnXAijIGYnCT8M8H  5EvFsr3kj42KNv97ZEnqij   \n",
       "...                         ...                     ...   \n",
       "1760488  5qGlyp4XgwL0VV6vOkWV5S  1PpMfsOyfZ3nmcSoiIohpC   \n",
       "1760489  5LSOkBJJsLu4SQwvyacIGp  0ty0xha1dbprYIUAQufkFn   \n",
       "1760490  5syAfgDKuppPBIHXLY6zBn  1KeIof0zqga5ojkmOKg88P   \n",
       "1760491  5YiSmmV9FX2pluBqbGVEta  05lXn8pr4Rm6gFD8zGi3ve   \n",
       "1760492  0WNs8WQq67S9h7rLyKk3Bc  456GKlKmVdzrsmUDmF0Xug   \n",
       "\n",
       "                      album_uri  \n",
       "0        6vV5UrXcfyQD1wu4Qo2I9K  \n",
       "1        0z7pVBGOD7HCIB7S8eLkLI  \n",
       "2        25hVFAxTlDvXbx2X2QkUkE  \n",
       "3        6QPkyl04rXwTGlGlcYaRoW  \n",
       "4        6NmFmPX56pcLBOFMhIiKvF  \n",
       "...                         ...  \n",
       "1760488  0DOrj4NjLZuUIlQqHKLsTr  \n",
       "1760489  6BTzoWgZBEIw4wddGcIsy6  \n",
       "1760490  1wLw41yiDGcZowrw3L3Bkd  \n",
       "1760491  1lajhds6xa01ZEH5L7QAUX  \n",
       "1760492  6MFIjgMQMlS7Lehzgi1iFP  \n",
       "\n",
       "[1760493 rows x 3 columns]"
      ]
     },
     "execution_count": 24,
     "metadata": {},
     "output_type": "execute_result"
    }
   ],
   "source": [
    "df"
   ]
  },
  {
   "cell_type": "code",
   "execution_count": 22,
   "metadata": {},
   "outputs": [],
   "source": [
    "t_uri=df[\"track_uri\"].unique()\n",
    "a_uri=df[\"artist_uri\"].unique()"
   ]
  }
 ],
 "metadata": {
  "kernelspec": {
   "display_name": "Python 3 (ipykernel)",
   "language": "python",
   "name": "python3"
  },
  "language_info": {
   "codemirror_mode": {
    "name": "ipython",
    "version": 3
   },
   "file_extension": ".py",
   "mimetype": "text/x-python",
   "name": "python",
   "nbconvert_exporter": "python",
   "pygments_lexer": "ipython3",
   "version": "3.11.4"
  },
  "vscode": {
   "interpreter": {
    "hash": "e246d2215c418239c9316a1ebf2d8abb44dc50b2e5b0e29defd87143398aa387"
   }
  }
 },
 "nbformat": 4,
 "nbformat_minor": 2
}
